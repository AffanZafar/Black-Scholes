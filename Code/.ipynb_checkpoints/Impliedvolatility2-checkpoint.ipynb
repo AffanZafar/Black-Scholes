{
 "cells": [
  {
   "cell_type": "code",
   "execution_count": 1,
   "metadata": {},
   "outputs": [],
   "source": [
    "import numpy as np\n",
    "from scipy.stats import norm\n",
    "from scipy.optimize import minimize_scalar   \n",
    "import pandas as pd\n",
    "import pandas_datareader.data as web\n",
    "import datetime as dt\n",
    "import matplotlib.pyplot as plt\n",
    "from mpl_toolkits import mplot3d\n",
    "from matplotlib import cm\n",
    "import requests\n",
    "import responses\n",
    "import requests"
   ]
  },
  {
   "cell_type": "code",
   "execution_count": 72,
   "metadata": {},
   "outputs": [],
   "source": [
    "import yfinance as yf\n",
    "sbux = yf.Ticker(\"NFLX\")"
   ]
  },
  {
   "cell_type": "code",
   "execution_count": 73,
   "metadata": {},
   "outputs": [
    {
     "data": {
      "text/plain": [
       "('2022-03-04',\n",
       " '2022-03-11',\n",
       " '2022-03-18',\n",
       " '2022-03-25',\n",
       " '2022-04-01',\n",
       " '2022-04-08',\n",
       " '2022-04-14',\n",
       " '2022-05-20',\n",
       " '2022-06-17',\n",
       " '2022-07-15',\n",
       " '2022-09-16',\n",
       " '2022-12-16',\n",
       " '2023-01-20',\n",
       " '2023-03-17',\n",
       " '2024-01-19')"
      ]
     },
     "execution_count": 73,
     "metadata": {},
     "output_type": "execute_result"
    }
   ],
   "source": [
    "sbux.options"
   ]
  },
  {
   "cell_type": "code",
   "execution_count": 129,
   "metadata": {},
   "outputs": [],
   "source": [
    "opt = sbux.option_chain('2024-01-19')"
   ]
  },
  {
   "cell_type": "code",
   "execution_count": 130,
   "metadata": {},
   "outputs": [],
   "source": [
    "calls = opt.calls"
   ]
  },
  {
   "cell_type": "code",
   "execution_count": 131,
   "metadata": {},
   "outputs": [
    {
     "data": {
      "text/html": [
       "<div>\n",
       "<style scoped>\n",
       "    .dataframe tbody tr th:only-of-type {\n",
       "        vertical-align: middle;\n",
       "    }\n",
       "\n",
       "    .dataframe tbody tr th {\n",
       "        vertical-align: top;\n",
       "    }\n",
       "\n",
       "    .dataframe thead th {\n",
       "        text-align: right;\n",
       "    }\n",
       "</style>\n",
       "<table border=\"1\" class=\"dataframe\">\n",
       "  <thead>\n",
       "    <tr style=\"text-align: right;\">\n",
       "      <th></th>\n",
       "      <th>contractSymbol</th>\n",
       "      <th>lastTradeDate</th>\n",
       "      <th>strike</th>\n",
       "      <th>lastPrice</th>\n",
       "      <th>bid</th>\n",
       "      <th>ask</th>\n",
       "      <th>change</th>\n",
       "      <th>percentChange</th>\n",
       "      <th>volume</th>\n",
       "      <th>openInterest</th>\n",
       "      <th>impliedVolatility</th>\n",
       "      <th>inTheMoney</th>\n",
       "      <th>contractSize</th>\n",
       "      <th>currency</th>\n",
       "    </tr>\n",
       "  </thead>\n",
       "  <tbody>\n",
       "    <tr>\n",
       "      <th>0</th>\n",
       "      <td>NFLX240119C00050000</td>\n",
       "      <td>2022-02-11 16:19:59+00:00</td>\n",
       "      <td>50.0</td>\n",
       "      <td>353.00</td>\n",
       "      <td>338.00</td>\n",
       "      <td>346.20</td>\n",
       "      <td>0.00</td>\n",
       "      <td>0.000000</td>\n",
       "      <td>1.0</td>\n",
       "      <td>10</td>\n",
       "      <td>0.768801</td>\n",
       "      <td>True</td>\n",
       "      <td>REGULAR</td>\n",
       "      <td>USD</td>\n",
       "    </tr>\n",
       "    <tr>\n",
       "      <th>1</th>\n",
       "      <td>NFLX240119C00100000</td>\n",
       "      <td>2022-02-24 14:30:08+00:00</td>\n",
       "      <td>100.0</td>\n",
       "      <td>270.00</td>\n",
       "      <td>292.00</td>\n",
       "      <td>299.80</td>\n",
       "      <td>0.00</td>\n",
       "      <td>0.000000</td>\n",
       "      <td>10.0</td>\n",
       "      <td>42</td>\n",
       "      <td>0.667362</td>\n",
       "      <td>True</td>\n",
       "      <td>REGULAR</td>\n",
       "      <td>USD</td>\n",
       "    </tr>\n",
       "    <tr>\n",
       "      <th>2</th>\n",
       "      <td>NFLX240119C00150000</td>\n",
       "      <td>2022-02-23 19:41:05+00:00</td>\n",
       "      <td>150.0</td>\n",
       "      <td>234.80</td>\n",
       "      <td>248.00</td>\n",
       "      <td>255.90</td>\n",
       "      <td>0.00</td>\n",
       "      <td>0.000000</td>\n",
       "      <td>1.0</td>\n",
       "      <td>34</td>\n",
       "      <td>0.594609</td>\n",
       "      <td>True</td>\n",
       "      <td>REGULAR</td>\n",
       "      <td>USD</td>\n",
       "    </tr>\n",
       "    <tr>\n",
       "      <th>3</th>\n",
       "      <td>NFLX240119C00185000</td>\n",
       "      <td>2022-02-28 14:38:44+00:00</td>\n",
       "      <td>185.0</td>\n",
       "      <td>220.00</td>\n",
       "      <td>218.60</td>\n",
       "      <td>227.40</td>\n",
       "      <td>0.00</td>\n",
       "      <td>0.000000</td>\n",
       "      <td>1.0</td>\n",
       "      <td>3</td>\n",
       "      <td>0.557622</td>\n",
       "      <td>True</td>\n",
       "      <td>REGULAR</td>\n",
       "      <td>USD</td>\n",
       "    </tr>\n",
       "    <tr>\n",
       "      <th>4</th>\n",
       "      <td>NFLX240119C00190000</td>\n",
       "      <td>2022-02-09 15:47:01+00:00</td>\n",
       "      <td>190.0</td>\n",
       "      <td>236.60</td>\n",
       "      <td>214.00</td>\n",
       "      <td>222.50</td>\n",
       "      <td>0.00</td>\n",
       "      <td>0.000000</td>\n",
       "      <td>2.0</td>\n",
       "      <td>22</td>\n",
       "      <td>0.544453</td>\n",
       "      <td>True</td>\n",
       "      <td>REGULAR</td>\n",
       "      <td>USD</td>\n",
       "    </tr>\n",
       "    <tr>\n",
       "      <th>...</th>\n",
       "      <td>...</td>\n",
       "      <td>...</td>\n",
       "      <td>...</td>\n",
       "      <td>...</td>\n",
       "      <td>...</td>\n",
       "      <td>...</td>\n",
       "      <td>...</td>\n",
       "      <td>...</td>\n",
       "      <td>...</td>\n",
       "      <td>...</td>\n",
       "      <td>...</td>\n",
       "      <td>...</td>\n",
       "      <td>...</td>\n",
       "      <td>...</td>\n",
       "    </tr>\n",
       "    <tr>\n",
       "      <th>95</th>\n",
       "      <td>NFLX240119C01225000</td>\n",
       "      <td>2022-02-17 14:30:09+00:00</td>\n",
       "      <td>1225.0</td>\n",
       "      <td>2.50</td>\n",
       "      <td>0.01</td>\n",
       "      <td>6.20</td>\n",
       "      <td>0.00</td>\n",
       "      <td>0.000000</td>\n",
       "      <td>1.0</td>\n",
       "      <td>1</td>\n",
       "      <td>0.463903</td>\n",
       "      <td>False</td>\n",
       "      <td>REGULAR</td>\n",
       "      <td>USD</td>\n",
       "    </tr>\n",
       "    <tr>\n",
       "      <th>96</th>\n",
       "      <td>NFLX240119C01250000</td>\n",
       "      <td>2022-02-23 15:03:03+00:00</td>\n",
       "      <td>1250.0</td>\n",
       "      <td>3.85</td>\n",
       "      <td>0.50</td>\n",
       "      <td>5.95</td>\n",
       "      <td>0.00</td>\n",
       "      <td>0.000000</td>\n",
       "      <td>1.0</td>\n",
       "      <td>3</td>\n",
       "      <td>0.466344</td>\n",
       "      <td>False</td>\n",
       "      <td>REGULAR</td>\n",
       "      <td>USD</td>\n",
       "    </tr>\n",
       "    <tr>\n",
       "      <th>97</th>\n",
       "      <td>NFLX240119C01275000</td>\n",
       "      <td>2022-03-01 17:16:25+00:00</td>\n",
       "      <td>1275.0</td>\n",
       "      <td>1.98</td>\n",
       "      <td>0.70</td>\n",
       "      <td>3.20</td>\n",
       "      <td>-1.19</td>\n",
       "      <td>-37.539433</td>\n",
       "      <td>12.0</td>\n",
       "      <td>23</td>\n",
       "      <td>0.425421</td>\n",
       "      <td>False</td>\n",
       "      <td>REGULAR</td>\n",
       "      <td>USD</td>\n",
       "    </tr>\n",
       "    <tr>\n",
       "      <th>98</th>\n",
       "      <td>NFLX240119C01300000</td>\n",
       "      <td>2022-03-01 17:02:12+00:00</td>\n",
       "      <td>1300.0</td>\n",
       "      <td>1.60</td>\n",
       "      <td>0.98</td>\n",
       "      <td>2.47</td>\n",
       "      <td>-0.39</td>\n",
       "      <td>-19.597990</td>\n",
       "      <td>33.0</td>\n",
       "      <td>371</td>\n",
       "      <td>0.414190</td>\n",
       "      <td>False</td>\n",
       "      <td>REGULAR</td>\n",
       "      <td>USD</td>\n",
       "    </tr>\n",
       "    <tr>\n",
       "      <th>99</th>\n",
       "      <td>NFLX240119C01325000</td>\n",
       "      <td>2022-02-28 20:58:33+00:00</td>\n",
       "      <td>1325.0</td>\n",
       "      <td>1.84</td>\n",
       "      <td>1.01</td>\n",
       "      <td>2.25</td>\n",
       "      <td>0.00</td>\n",
       "      <td>0.000000</td>\n",
       "      <td>290.0</td>\n",
       "      <td>1002</td>\n",
       "      <td>0.413611</td>\n",
       "      <td>False</td>\n",
       "      <td>REGULAR</td>\n",
       "      <td>USD</td>\n",
       "    </tr>\n",
       "  </tbody>\n",
       "</table>\n",
       "<p>100 rows × 14 columns</p>\n",
       "</div>"
      ],
      "text/plain": [
       "         contractSymbol             lastTradeDate  strike  lastPrice     bid  \\\n",
       "0   NFLX240119C00050000 2022-02-11 16:19:59+00:00    50.0     353.00  338.00   \n",
       "1   NFLX240119C00100000 2022-02-24 14:30:08+00:00   100.0     270.00  292.00   \n",
       "2   NFLX240119C00150000 2022-02-23 19:41:05+00:00   150.0     234.80  248.00   \n",
       "3   NFLX240119C00185000 2022-02-28 14:38:44+00:00   185.0     220.00  218.60   \n",
       "4   NFLX240119C00190000 2022-02-09 15:47:01+00:00   190.0     236.60  214.00   \n",
       "..                  ...                       ...     ...        ...     ...   \n",
       "95  NFLX240119C01225000 2022-02-17 14:30:09+00:00  1225.0       2.50    0.01   \n",
       "96  NFLX240119C01250000 2022-02-23 15:03:03+00:00  1250.0       3.85    0.50   \n",
       "97  NFLX240119C01275000 2022-03-01 17:16:25+00:00  1275.0       1.98    0.70   \n",
       "98  NFLX240119C01300000 2022-03-01 17:02:12+00:00  1300.0       1.60    0.98   \n",
       "99  NFLX240119C01325000 2022-02-28 20:58:33+00:00  1325.0       1.84    1.01   \n",
       "\n",
       "       ask  change  percentChange  volume  openInterest  impliedVolatility  \\\n",
       "0   346.20    0.00       0.000000     1.0            10           0.768801   \n",
       "1   299.80    0.00       0.000000    10.0            42           0.667362   \n",
       "2   255.90    0.00       0.000000     1.0            34           0.594609   \n",
       "3   227.40    0.00       0.000000     1.0             3           0.557622   \n",
       "4   222.50    0.00       0.000000     2.0            22           0.544453   \n",
       "..     ...     ...            ...     ...           ...                ...   \n",
       "95    6.20    0.00       0.000000     1.0             1           0.463903   \n",
       "96    5.95    0.00       0.000000     1.0             3           0.466344   \n",
       "97    3.20   -1.19     -37.539433    12.0            23           0.425421   \n",
       "98    2.47   -0.39     -19.597990    33.0           371           0.414190   \n",
       "99    2.25    0.00       0.000000   290.0          1002           0.413611   \n",
       "\n",
       "    inTheMoney contractSize currency  \n",
       "0         True      REGULAR      USD  \n",
       "1         True      REGULAR      USD  \n",
       "2         True      REGULAR      USD  \n",
       "3         True      REGULAR      USD  \n",
       "4         True      REGULAR      USD  \n",
       "..         ...          ...      ...  \n",
       "95       False      REGULAR      USD  \n",
       "96       False      REGULAR      USD  \n",
       "97       False      REGULAR      USD  \n",
       "98       False      REGULAR      USD  \n",
       "99       False      REGULAR      USD  \n",
       "\n",
       "[100 rows x 14 columns]"
      ]
     },
     "execution_count": 131,
     "metadata": {},
     "output_type": "execute_result"
    }
   ],
   "source": [
    "calls"
   ]
  },
  {
   "cell_type": "code",
   "execution_count": 132,
   "metadata": {},
   "outputs": [],
   "source": [
    "N = norm.cdf\n",
    "\n",
    "def BS_CALL(S, K, T, r, sigma):\n",
    "    d1 = (np.log(S/K) + (r + sigma**2/2)*T) / (sigma*np.sqrt(T))\n",
    "    d2 = d1 - sigma * np.sqrt(T)\n",
    "    return S * N(d1) - K * np.exp(-r*T)* N(d2)\n",
    "\n",
    "def BS_PUT(S, K, T, r, sigma):\n",
    "    d1 = (np.log(S/K) + (r + sigma**2/2)*T) / (sigma*np.sqrt(T))\n",
    "    d2 = d1 - sigma* np.sqrt(T)\n",
    "    return K*np.exp(-r*T)*N(-d2) - S*N(-d1)    \n",
    "    \n",
    "\n",
    "def implied_vol(opt_value, S, K, T, r, type_='call'):\n",
    "    \n",
    "    def call_obj(sigma):\n",
    "        return abs(BS_CALL(S, K, T, r, sigma) - opt_value)\n",
    "    \n",
    "    def put_obj(sigma):\n",
    "        return abs(BS_PUT(S, K, T, r, sigma) - opt_value)\n",
    "    \n",
    "    if type_ == 'call':\n",
    "        res = minimize_scalar(call_obj, bounds=(0.01,6), method='bounded')\n",
    "        return res.x\n",
    "    elif type_ == 'put':\n",
    "        res = minimize_scalar(put_obj, bounds=(0.01,6),\n",
    "                              method='bounded')\n",
    "        return res.x\n",
    "    else:\n",
    "        raise ValueError(\"type_ must be 'put' or 'call'\")"
   ]
  },
  {
   "cell_type": "code",
   "execution_count": 133,
   "metadata": {},
   "outputs": [],
   "source": [
    "strike = calls[\"strike\"]\n",
    "IV = calls[\"impliedVolatility\"]\n",
    "Spot = calls[\"lastPrice\"]"
   ]
  },
  {
   "cell_type": "code",
   "execution_count": 134,
   "metadata": {},
   "outputs": [
    {
     "data": {
      "text/plain": [
       "99"
      ]
     },
     "execution_count": 134,
     "metadata": {},
     "output_type": "execute_result"
    }
   ],
   "source": [
    "T = np.arange(0,2,0.0204)\n",
    "len(T)"
   ]
  },
  {
   "cell_type": "code",
   "execution_count": 190,
   "metadata": {},
   "outputs": [
    {
     "name": "stderr",
     "output_type": "stream",
     "text": [
      "C:\\Users\\affan\\anaconda3\\lib\\site-packages\\ipykernel_launcher.py:4: RuntimeWarning: divide by zero encountered in double_scalars\n",
      "  after removing the cwd from sys.path.\n"
     ]
    }
   ],
   "source": [
    "C = []\n",
    "for i in range(len(T)):\n",
    "    C.append(BS_CALL(Spot[i], strike[i], T[i], 0.01, IV[i]))\n",
    "ivs = []\n",
    "for i in range(len(T)):\n",
    "    iv = implied_vol(C[i], Spot[i], strike[i], 3, 3.5)\n",
    "    ivs.append(iv)"
   ]
  },
  {
   "cell_type": "code",
   "execution_count": 191,
   "metadata": {},
   "outputs": [
    {
     "data": {
      "image/png": "[encoded data removed]",
      "text/plain": [
       "<Figure size 432x288 with 1 Axes>"
      ]
     },
     "metadata": {
      "needs_background": "light"
     },
     "output_type": "display_data"
    }
   ],
   "source": [
    "plt.plot(IV,label='Implied Volatility of SBUX')\n",
    "plt.plot(ivs,label='Calculated Implied Volatility using Call options')\n",
    "plt.xlabel('Value')\n",
    "plt.ylabel('$\\sigma$')\n",
    "plt.title('Volatility')\n",
    "plt.legend()\n",
    "plt.show()"
   ]
  },
  {
   "cell_type": "code",
   "execution_count": 188,
   "metadata": {},
   "outputs": [
    {
     "name": "stderr",
     "output_type": "stream",
     "text": [
      "C:\\Users\\affan\\anaconda3\\lib\\site-packages\\ipykernel_launcher.py:4: RuntimeWarning: divide by zero encountered in double_scalars\n",
      "  after removing the cwd from sys.path.\n"
     ]
    }
   ],
   "source": [
    "Civ = []\n",
    "for i in range(len(T)):\n",
    "    Civ.append(BS_CALL(Spot[i], strike[i], T[i], 3.5, ivs[i]))"
   ]
  },
  {
   "cell_type": "code",
   "execution_count": 189,
   "metadata": {},
   "outputs": [
    {
     "data": {
      "text/plain": [
       "<matplotlib.legend.Legend at 0x1cc503c1388>"
      ]
     },
     "execution_count": 189,
     "metadata": {},
     "output_type": "execute_result"
    },
    {
     "data": {
      "image/png": "[encoded data removed]",
      "text/plain": [
       "<Figure size 432x288 with 1 Axes>"
      ]
     },
     "metadata": {
      "needs_background": "light"
     },
     "output_type": "display_data"
    }
   ],
   "source": [
    "plt.plot(T,Civ,label='Call options')\n",
    "plt.legend()"
   ]
  },
  {
   "cell_type": "code",
   "execution_count": null,
   "metadata": {},
   "outputs": [],
   "source": []
  },
  {
   "cell_type": "code",
   "execution_count": null,
   "metadata": {},
   "outputs": [],
   "source": []
  }
 ],
 "metadata": {
  "kernelspec": {
   "display_name": "Python 3",
   "language": "python",
   "name": "python3"
  },
  "language_info": {
   "codemirror_mode": {
    "name": "ipython",
    "version": 3
   },
   "file_extension": ".py",
   "mimetype": "text/x-python",
   "name": "python",
   "nbconvert_exporter": "python",
   "pygments_lexer": "ipython3",
   "version": "3.7.6"
  }
 },
 "nbformat": 4,
 "nbformat_minor": 4
}
