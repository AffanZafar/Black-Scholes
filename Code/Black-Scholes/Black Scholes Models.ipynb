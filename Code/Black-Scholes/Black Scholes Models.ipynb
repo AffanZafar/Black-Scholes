{
 "cells": [
  {
   "cell_type": "code",
   "execution_count": 2,
   "metadata": {},
   "outputs": [
    {
     "name": "stdout",
     "output_type": "stream",
     "text": [
      "Option price is 68.2856853619158\n"
     ]
    }
   ],
   "source": [
    "from scipy.stats import norm\n",
    "import numpy as np\n",
    "import scipy as scp\n",
    "\n",
    "\n",
    "r = 0.13\n",
    "S = 200\n",
    "K = 150\n",
    "T1 = 1\n",
    "sigma = 0.05\n",
    "\n"
   ]
  },
  {
   "cell_type": "code",
   "execution_count": 3,
   "metadata": {},
   "outputs": [
    {
     "name": "stdout",
     "output_type": "stream",
     "text": [
      "Option price is 68.2856853619158\n"
     ]
    }
   ],
   "source": [
    "def blackscholes(r,S,K,T,sigma,type=\"C\"):\n",
    "    d1 = (np.log(S/K)+(r+sigma**2/2)*T)/(sigma*np.sqrt(T))\n",
    "    d2 = d1 - sigma * np.sqrt(T)\n",
    "    try:\n",
    "        if type == \"C\":\n",
    "            price = S*norm.cdf(d1,0,1)- K*np.exp(-r*T)*norm.cdf(d2,0,1)\n",
    "        elif type == \"P\":\n",
    "            price = K * np.exp(-r*T)*norm.cdf(-d2,0,1) - S*norm.cdf(-d1,0,1)\n",
    "        return price\n",
    "    except:\n",
    "        print(\"Confirm Parameters\")\n",
    "print('Option price is',blackscholes(r,S,K,T1,sigma,type=\"C\"))  "
   ]
  },
  {
   "cell_type": "code",
   "execution_count": null,
   "metadata": {},
   "outputs": [],
   "source": []
  }
 ],
 "metadata": {
  "kernelspec": {
   "display_name": "Python 3",
   "language": "python",
   "name": "python3"
  },
  "language_info": {
   "codemirror_mode": {
    "name": "ipython",
    "version": 3
   },
   "file_extension": ".py",
   "mimetype": "text/x-python",
   "name": "python",
   "nbconvert_exporter": "python",
   "pygments_lexer": "ipython3",
   "version": "3.7.6"
  }
 },
 "nbformat": 4,
 "nbformat_minor": 4
}
