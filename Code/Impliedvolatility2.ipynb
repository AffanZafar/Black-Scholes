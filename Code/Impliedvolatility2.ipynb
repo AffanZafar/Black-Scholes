{
 "cells": [
  {
   "cell_type": "code",
   "execution_count": 1,
   "metadata": {},
   "outputs": [],
   "source": [
    "import numpy as np\n",
    "from scipy.stats import norm\n",
    "from scipy.optimize import minimize_scalar   \n",
    "import pandas as pd\n",
    "import pandas_datareader.data as web\n",
    "import datetime as dt\n",
    "import matplotlib.pyplot as plt\n",
    "from mpl_toolkits import mplot3d\n",
    "from matplotlib import cm\n",
    "import requests\n",
    "import responses\n",
    "import requests"
   ]
  },
  {
   "cell_type": "code",
   "execution_count": 2,
   "metadata": {},
   "outputs": [],
   "source": [
    "import yfinance as yf\n",
    "sbux = yf.Ticker(\"NFLX\")"
   ]
  },
  {
   "cell_type": "code",
   "execution_count": 3,
   "metadata": {},
   "outputs": [
    {
     "data": {
      "text/plain": [
       "('2022-04-14',\n",
       " '2022-04-22',\n",
       " '2022-04-29',\n",
       " '2022-05-06',\n",
       " '2022-05-13',\n",
       " '2022-05-20',\n",
       " '2022-05-27',\n",
       " '2022-06-17',\n",
       " '2022-07-15',\n",
       " '2022-09-16',\n",
       " '2022-12-16',\n",
       " '2023-01-20',\n",
       " '2023-03-17',\n",
       " '2023-06-16',\n",
       " '2024-01-19')"
      ]
     },
     "execution_count": 3,
     "metadata": {},
     "output_type": "execute_result"
    }
   ],
   "source": [
    "sbux.options"
   ]
  },
  {
   "cell_type": "code",
   "execution_count": 4,
   "metadata": {},
   "outputs": [],
   "source": [
    "opt = sbux.option_chain('2024-01-19')"
   ]
  },
  {
   "cell_type": "code",
   "execution_count": 5,
   "metadata": {},
   "outputs": [],
   "source": [
    "calls = opt.calls"
   ]
  },
  {
   "cell_type": "code",
   "execution_count": 6,
   "metadata": {},
   "outputs": [
    {
     "data": {
      "text/html": [
       "<div>\n",
       "<style scoped>\n",
       "    .dataframe tbody tr th:only-of-type {\n",
       "        vertical-align: middle;\n",
       "    }\n",
       "\n",
       "    .dataframe tbody tr th {\n",
       "        vertical-align: top;\n",
       "    }\n",
       "\n",
       "    .dataframe thead th {\n",
       "        text-align: right;\n",
       "    }\n",
       "</style>\n",
       "<table border=\"1\" class=\"dataframe\">\n",
       "  <thead>\n",
       "    <tr style=\"text-align: right;\">\n",
       "      <th></th>\n",
       "      <th>contractSymbol</th>\n",
       "      <th>lastTradeDate</th>\n",
       "      <th>strike</th>\n",
       "      <th>lastPrice</th>\n",
       "      <th>bid</th>\n",
       "      <th>ask</th>\n",
       "      <th>change</th>\n",
       "      <th>percentChange</th>\n",
       "      <th>volume</th>\n",
       "      <th>openInterest</th>\n",
       "      <th>impliedVolatility</th>\n",
       "      <th>inTheMoney</th>\n",
       "      <th>contractSize</th>\n",
       "      <th>currency</th>\n",
       "    </tr>\n",
       "  </thead>\n",
       "  <tbody>\n",
       "    <tr>\n",
       "      <th>0</th>\n",
       "      <td>NFLX240119C00050000</td>\n",
       "      <td>2022-03-07 20:52:54+00:00</td>\n",
       "      <td>50.0</td>\n",
       "      <td>306.00</td>\n",
       "      <td>317.50</td>\n",
       "      <td>327.00</td>\n",
       "      <td>0.00</td>\n",
       "      <td>0.000000</td>\n",
       "      <td>1.0</td>\n",
       "      <td>9</td>\n",
       "      <td>1.478274</td>\n",
       "      <td>True</td>\n",
       "      <td>REGULAR</td>\n",
       "      <td>USD</td>\n",
       "    </tr>\n",
       "    <tr>\n",
       "      <th>1</th>\n",
       "      <td>NFLX240119C00100000</td>\n",
       "      <td>2022-04-05 18:25:44+00:00</td>\n",
       "      <td>100.0</td>\n",
       "      <td>288.50</td>\n",
       "      <td>260.00</td>\n",
       "      <td>269.25</td>\n",
       "      <td>0.00</td>\n",
       "      <td>0.000000</td>\n",
       "      <td>1.0</td>\n",
       "      <td>42</td>\n",
       "      <td>0.757357</td>\n",
       "      <td>True</td>\n",
       "      <td>REGULAR</td>\n",
       "      <td>USD</td>\n",
       "    </tr>\n",
       "    <tr>\n",
       "      <th>2</th>\n",
       "      <td>NFLX240119C00150000</td>\n",
       "      <td>2022-04-06 13:56:39+00:00</td>\n",
       "      <td>150.0</td>\n",
       "      <td>235.00</td>\n",
       "      <td>216.50</td>\n",
       "      <td>226.00</td>\n",
       "      <td>0.00</td>\n",
       "      <td>0.000000</td>\n",
       "      <td>1.0</td>\n",
       "      <td>58</td>\n",
       "      <td>0.642582</td>\n",
       "      <td>True</td>\n",
       "      <td>REGULAR</td>\n",
       "      <td>USD</td>\n",
       "    </tr>\n",
       "    <tr>\n",
       "      <th>3</th>\n",
       "      <td>NFLX240119C00175000</td>\n",
       "      <td>2022-03-18 18:16:47+00:00</td>\n",
       "      <td>175.0</td>\n",
       "      <td>224.07</td>\n",
       "      <td>196.00</td>\n",
       "      <td>205.15</td>\n",
       "      <td>0.00</td>\n",
       "      <td>0.000000</td>\n",
       "      <td>2.0</td>\n",
       "      <td>0</td>\n",
       "      <td>0.600987</td>\n",
       "      <td>True</td>\n",
       "      <td>REGULAR</td>\n",
       "      <td>USD</td>\n",
       "    </tr>\n",
       "    <tr>\n",
       "      <th>4</th>\n",
       "      <td>NFLX240119C00180000</td>\n",
       "      <td>2022-03-18 14:42:16+00:00</td>\n",
       "      <td>180.0</td>\n",
       "      <td>216.00</td>\n",
       "      <td>192.05</td>\n",
       "      <td>201.25</td>\n",
       "      <td>0.00</td>\n",
       "      <td>0.000000</td>\n",
       "      <td>1.0</td>\n",
       "      <td>1</td>\n",
       "      <td>0.594883</td>\n",
       "      <td>True</td>\n",
       "      <td>REGULAR</td>\n",
       "      <td>USD</td>\n",
       "    </tr>\n",
       "    <tr>\n",
       "      <th>...</th>\n",
       "      <td>...</td>\n",
       "      <td>...</td>\n",
       "      <td>...</td>\n",
       "      <td>...</td>\n",
       "      <td>...</td>\n",
       "      <td>...</td>\n",
       "      <td>...</td>\n",
       "      <td>...</td>\n",
       "      <td>...</td>\n",
       "      <td>...</td>\n",
       "      <td>...</td>\n",
       "      <td>...</td>\n",
       "      <td>...</td>\n",
       "      <td>...</td>\n",
       "    </tr>\n",
       "    <tr>\n",
       "      <th>98</th>\n",
       "      <td>NFLX240119C01225000</td>\n",
       "      <td>2022-02-17 14:30:09+00:00</td>\n",
       "      <td>1225.0</td>\n",
       "      <td>2.50</td>\n",
       "      <td>0.01</td>\n",
       "      <td>3.20</td>\n",
       "      <td>0.00</td>\n",
       "      <td>0.000000</td>\n",
       "      <td>1.0</td>\n",
       "      <td>1</td>\n",
       "      <td>0.460027</td>\n",
       "      <td>False</td>\n",
       "      <td>REGULAR</td>\n",
       "      <td>USD</td>\n",
       "    </tr>\n",
       "    <tr>\n",
       "      <th>99</th>\n",
       "      <td>NFLX240119C01250000</td>\n",
       "      <td>2022-02-23 15:03:03+00:00</td>\n",
       "      <td>1250.0</td>\n",
       "      <td>3.85</td>\n",
       "      <td>0.85</td>\n",
       "      <td>3.35</td>\n",
       "      <td>0.00</td>\n",
       "      <td>0.000000</td>\n",
       "      <td>1.0</td>\n",
       "      <td>3</td>\n",
       "      <td>0.469060</td>\n",
       "      <td>False</td>\n",
       "      <td>REGULAR</td>\n",
       "      <td>USD</td>\n",
       "    </tr>\n",
       "    <tr>\n",
       "      <th>100</th>\n",
       "      <td>NFLX240119C01275000</td>\n",
       "      <td>2022-04-08 14:26:17+00:00</td>\n",
       "      <td>1275.0</td>\n",
       "      <td>1.25</td>\n",
       "      <td>0.00</td>\n",
       "      <td>2.85</td>\n",
       "      <td>0.25</td>\n",
       "      <td>25.000000</td>\n",
       "      <td>26.0</td>\n",
       "      <td>38</td>\n",
       "      <td>0.462927</td>\n",
       "      <td>False</td>\n",
       "      <td>REGULAR</td>\n",
       "      <td>USD</td>\n",
       "    </tr>\n",
       "    <tr>\n",
       "      <th>101</th>\n",
       "      <td>NFLX240119C01300000</td>\n",
       "      <td>2022-04-06 17:22:12+00:00</td>\n",
       "      <td>1300.0</td>\n",
       "      <td>1.12</td>\n",
       "      <td>0.84</td>\n",
       "      <td>1.59</td>\n",
       "      <td>0.00</td>\n",
       "      <td>0.000000</td>\n",
       "      <td>6.0</td>\n",
       "      <td>342</td>\n",
       "      <td>0.430914</td>\n",
       "      <td>False</td>\n",
       "      <td>REGULAR</td>\n",
       "      <td>USD</td>\n",
       "    </tr>\n",
       "    <tr>\n",
       "      <th>102</th>\n",
       "      <td>NFLX240119C01325000</td>\n",
       "      <td>2022-04-08 15:01:47+00:00</td>\n",
       "      <td>1325.0</td>\n",
       "      <td>0.85</td>\n",
       "      <td>0.62</td>\n",
       "      <td>1.37</td>\n",
       "      <td>-0.16</td>\n",
       "      <td>-15.841581</td>\n",
       "      <td>40.0</td>\n",
       "      <td>989</td>\n",
       "      <td>0.427435</td>\n",
       "      <td>False</td>\n",
       "      <td>REGULAR</td>\n",
       "      <td>USD</td>\n",
       "    </tr>\n",
       "  </tbody>\n",
       "</table>\n",
       "<p>103 rows × 14 columns</p>\n",
       "</div>"
      ],
      "text/plain": [
       "          contractSymbol             lastTradeDate  strike  lastPrice     bid  \\\n",
       "0    NFLX240119C00050000 2022-03-07 20:52:54+00:00    50.0     306.00  317.50   \n",
       "1    NFLX240119C00100000 2022-04-05 18:25:44+00:00   100.0     288.50  260.00   \n",
       "2    NFLX240119C00150000 2022-04-06 13:56:39+00:00   150.0     235.00  216.50   \n",
       "3    NFLX240119C00175000 2022-03-18 18:16:47+00:00   175.0     224.07  196.00   \n",
       "4    NFLX240119C00180000 2022-03-18 14:42:16+00:00   180.0     216.00  192.05   \n",
       "..                   ...                       ...     ...        ...     ...   \n",
       "98   NFLX240119C01225000 2022-02-17 14:30:09+00:00  1225.0       2.50    0.01   \n",
       "99   NFLX240119C01250000 2022-02-23 15:03:03+00:00  1250.0       3.85    0.85   \n",
       "100  NFLX240119C01275000 2022-04-08 14:26:17+00:00  1275.0       1.25    0.00   \n",
       "101  NFLX240119C01300000 2022-04-06 17:22:12+00:00  1300.0       1.12    0.84   \n",
       "102  NFLX240119C01325000 2022-04-08 15:01:47+00:00  1325.0       0.85    0.62   \n",
       "\n",
       "        ask  change  percentChange  volume  openInterest  impliedVolatility  \\\n",
       "0    327.00    0.00       0.000000     1.0             9           1.478274   \n",
       "1    269.25    0.00       0.000000     1.0            42           0.757357   \n",
       "2    226.00    0.00       0.000000     1.0            58           0.642582   \n",
       "3    205.15    0.00       0.000000     2.0             0           0.600987   \n",
       "4    201.25    0.00       0.000000     1.0             1           0.594883   \n",
       "..      ...     ...            ...     ...           ...                ...   \n",
       "98     3.20    0.00       0.000000     1.0             1           0.460027   \n",
       "99     3.35    0.00       0.000000     1.0             3           0.469060   \n",
       "100    2.85    0.25      25.000000    26.0            38           0.462927   \n",
       "101    1.59    0.00       0.000000     6.0           342           0.430914   \n",
       "102    1.37   -0.16     -15.841581    40.0           989           0.427435   \n",
       "\n",
       "     inTheMoney contractSize currency  \n",
       "0          True      REGULAR      USD  \n",
       "1          True      REGULAR      USD  \n",
       "2          True      REGULAR      USD  \n",
       "3          True      REGULAR      USD  \n",
       "4          True      REGULAR      USD  \n",
       "..          ...          ...      ...  \n",
       "98        False      REGULAR      USD  \n",
       "99        False      REGULAR      USD  \n",
       "100       False      REGULAR      USD  \n",
       "101       False      REGULAR      USD  \n",
       "102       False      REGULAR      USD  \n",
       "\n",
       "[103 rows x 14 columns]"
      ]
     },
     "execution_count": 6,
     "metadata": {},
     "output_type": "execute_result"
    }
   ],
   "source": [
    "calls"
   ]
  },
  {
   "cell_type": "code",
   "execution_count": 7,
   "metadata": {},
   "outputs": [],
   "source": [
    "N = norm.cdf\n",
    "\n",
    "def BS_CALL(S, K, T, r, sigma):\n",
    "    d1 = (np.log(S/K) + (r + sigma**2/2)*T) / (sigma*np.sqrt(T))\n",
    "    d2 = d1 - sigma * np.sqrt(T)\n",
    "    return S * N(d1) - K * np.exp(-r*T)* N(d2)\n",
    "\n",
    "def BS_PUT(S, K, T, r, sigma):\n",
    "    d1 = (np.log(S/K) + (r + sigma**2/2)*T) / (sigma*np.sqrt(T))\n",
    "    d2 = d1 - sigma* np.sqrt(T)\n",
    "    return K*np.exp(-r*T)*N(-d2) - S*N(-d1)    \n",
    "    \n",
    "\n",
    "def implied_vol(opt_value, S, K, T, r, type_='call'):\n",
    "    \n",
    "    def call_obj(sigma):\n",
    "        return abs(BS_CALL(S, K, T, r, sigma) - opt_value)\n",
    "    \n",
    "    def put_obj(sigma):\n",
    "        return abs(BS_PUT(S, K, T, r, sigma) - opt_value)\n",
    "    \n",
    "    if type_ == 'call':\n",
    "        res = minimize_scalar(call_obj, bounds=(0.01,6), method='bounded')\n",
    "        return res.x\n",
    "    elif type_ == 'put':\n",
    "        res = minimize_scalar(put_obj, bounds=(0.01,6),\n",
    "                              method='bounded')\n",
    "        return res.x\n",
    "    else:\n",
    "        raise ValueError(\"type_ must be 'put' or 'call'\")"
   ]
  },
  {
   "cell_type": "code",
   "execution_count": 8,
   "metadata": {},
   "outputs": [],
   "source": [
    "strike = calls[\"strike\"]\n",
    "IV = calls[\"impliedVolatility\"]\n",
    "Spot = calls[\"lastPrice\"]"
   ]
  },
  {
   "cell_type": "code",
   "execution_count": 9,
   "metadata": {},
   "outputs": [
    {
     "data": {
      "text/plain": [
       "99"
      ]
     },
     "execution_count": 9,
     "metadata": {},
     "output_type": "execute_result"
    }
   ],
   "source": [
    "T = np.arange(0,2,0.0204)\n",
    "len(T)"
   ]
  },
  {
   "cell_type": "code",
   "execution_count": 10,
   "metadata": {},
   "outputs": [
    {
     "name": "stderr",
     "output_type": "stream",
     "text": [
      "C:\\Users\\affan\\anaconda3\\lib\\site-packages\\ipykernel_launcher.py:4: RuntimeWarning: divide by zero encountered in double_scalars\n",
      "  after removing the cwd from sys.path.\n"
     ]
    }
   ],
   "source": [
    "C = []\n",
    "for i in range(len(T)):\n",
    "    C.append(BS_CALL(Spot[i], strike[i], T[i], 0.01, IV[i]))\n",
    "ivs = []\n",
    "for i in range(len(T)):\n",
    "    iv = implied_vol(C[i], Spot[i], strike[i], 3, 3.5)\n",
    "    ivs.append(iv)"
   ]
  },
  {
   "cell_type": "code",
   "execution_count": 11,
   "metadata": {},
   "outputs": [
    {
     "data": {
      "image/png": "[encoded data removed]",
      "text/plain": [
       "<Figure size 432x288 with 1 Axes>"
      ]
     },
     "metadata": {
      "needs_background": "light"
     },
     "output_type": "display_data"
    }
   ],
   "source": [
    "plt.plot(IV,label='Implied Volatility of NFLX')\n",
    "plt.plot(ivs,label='Calculated Implied Volatility using Call options')\n",
    "plt.xlabel('Value')\n",
    "plt.ylabel('$\\sigma$')\n",
    "plt.title('Volatility')\n",
    "plt.legend()\n",
    "plt.show()"
   ]
  },
  {
   "cell_type": "code",
   "execution_count": 12,
   "metadata": {},
   "outputs": [
    {
     "name": "stderr",
     "output_type": "stream",
     "text": [
      "C:\\Users\\affan\\anaconda3\\lib\\site-packages\\ipykernel_launcher.py:4: RuntimeWarning: divide by zero encountered in double_scalars\n",
      "  after removing the cwd from sys.path.\n"
     ]
    }
   ],
   "source": [
    "Civ = []\n",
    "for i in range(len(T)):\n",
    "    Civ.append(BS_CALL(Spot[i], strike[i], T[i], 3.5, ivs[i]))"
   ]
  },
  {
   "cell_type": "code",
   "execution_count": 15,
   "metadata": {},
   "outputs": [
    {
     "data": {
      "text/plain": [
       "<matplotlib.legend.Legend at 0x1e07efac1c8>"
      ]
     },
     "execution_count": 15,
     "metadata": {},
     "output_type": "execute_result"
    },
    {
     "data": {
      "image/png": "[encoded data removed]",
      "text/plain": [
       "<Figure size 432x288 with 1 Axes>"
      ]
     },
     "metadata": {
      "needs_background": "light"
     },
     "output_type": "display_data"
    }
   ],
   "source": [
    "plt.plot(T,Civ,label='Call options')\n",
    "plt.xlabel('S')\n",
    "plt.ylabel('C(S,t)')\n",
    "plt.title('Call option NFLX')\n",
    "plt.legend()"
   ]
  },
  {
   "cell_type": "code",
   "execution_count": null,
   "metadata": {},
   "outputs": [],
   "source": []
  },
  {
   "cell_type": "code",
   "execution_count": null,
   "metadata": {},
   "outputs": [],
   "source": []
  }
 ],
 "metadata": {
  "kernelspec": {
   "display_name": "Python 3",
   "language": "python",
   "name": "python3"
  },
  "language_info": {
   "codemirror_mode": {
    "name": "ipython",
    "version": 3
   },
   "file_extension": ".py",
   "mimetype": "text/x-python",
   "name": "python",
   "nbconvert_exporter": "python",
   "pygments_lexer": "ipython3",
   "version": "3.7.6"
  }
 },
 "nbformat": 4,
 "nbformat_minor": 4
}
